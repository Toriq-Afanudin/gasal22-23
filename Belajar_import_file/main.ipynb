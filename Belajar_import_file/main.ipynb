{
 "cells": [
  {
   "cell_type": "code",
   "execution_count": 3,
   "metadata": {},
   "outputs": [],
   "source": [
    "import numpy as np\n",
    "import matplotlib as plt"
   ]
  },
  {
   "cell_type": "code",
   "execution_count": 4,
   "metadata": {},
   "outputs": [
    {
     "name": "stdout",
     "output_type": "stream",
     "text": [
      "[-0.8088745940225616, 0.747426520484929, 1.9827452596218273, 4.028051568298446, 3.6194599380870573, 5.196122431632478, 4.905181263193685, 6.216093923271545, 8.405889378663245, 8.543934035213205, 10.537698335100155, 11.144856037638776, 12.561740009429428, 14.877685219335769, 12.117186573647745, 16.337934277959636, 18.300268634878837, 16.96061066235359, 17.68261436275469, 17.687951198972815]\n"
     ]
    }
   ],
   "source": [
    "jumlah_data=20\n",
    "y=[i+np.random.randn() for i in range(jumlah_data)]\n",
    "x=[i for i in range(jumlah_data)]"
   ]
  }
 ],
 "metadata": {
  "kernelspec": {
   "display_name": "Python 3.8.8 64-bit",
   "language": "python",
   "name": "python3"
  },
  "language_info": {
   "codemirror_mode": {
    "name": "ipython",
    "version": 3
   },
   "file_extension": ".py",
   "mimetype": "text/x-python",
   "name": "python",
   "nbconvert_exporter": "python",
   "pygments_lexer": "ipython3",
   "version": "3.8.8"
  },
  "orig_nbformat": 4,
  "vscode": {
   "interpreter": {
    "hash": "f7f36391209965042375612427887b2c37c07d9760a987aeebaad57ae9833aa5"
   }
  }
 },
 "nbformat": 4,
 "nbformat_minor": 2
}
